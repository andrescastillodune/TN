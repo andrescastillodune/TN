{
 "cells": [
  {
   "cell_type": "code",
   "execution_count": 1,
   "metadata": {},
   "outputs": [],
   "source": [
    "import numpy as np\n",
    "import tensorflow as tf\n",
    "import classifier, training\n",
    "tf.enable_eager_execution()"
   ]
  },
  {
   "cell_type": "markdown",
   "metadata": {},
   "source": [
    "# Data preprocessing"
   ]
  },
  {
   "cell_type": "markdown",
   "metadata": {},
   "source": [
    "First let's load the MNIST dataset of hand-written digits from `tensorflow`."
   ]
  },
  {
   "cell_type": "code",
   "execution_count": 2,
   "metadata": {},
   "outputs": [
    {
     "name": "stdout",
     "output_type": "stream",
     "text": [
      "(60000, 28, 28) (60000,)\n",
      "(10000, 28, 28) (10000,)\n"
     ]
    }
   ],
   "source": [
    "mnist = tf.keras.datasets.mnist\n",
    "(x_train, y_train), (x_test, y_test) = mnist.load_data(path='mnist.npz')\n",
    "\n",
    "print(x_train.shape, y_train.shape)\n",
    "print(x_test.shape, y_test.shape)"
   ]
  },
  {
   "cell_type": "markdown",
   "metadata": {},
   "source": [
    "Next let's encode the data using the feature map $\\Phi (p) = (p, 1-p)^T$ and transform the labels to one-hot format."
   ]
  },
  {
   "cell_type": "code",
   "execution_count": 3,
   "metadata": {},
   "outputs": [
    {
     "name": "stdout",
     "output_type": "stream",
     "text": [
      "10\n",
      "(60000, 784, 2) (60000, 10)\n",
      "(10000, 784, 2) (10000, 10)\n"
     ]
    }
   ],
   "source": [
    "def data_encoder(data):\n",
    "  return np.array([1 - data, data]).transpose([1, 2, 0])\n",
    "\n",
    "def to_one_hot(labels, n_labels=10):\n",
    "  one_hot = np.zeros((len(labels), n_labels))\n",
    "  one_hot[np.arange(len(labels)), labels] = 1\n",
    "  return one_hot\n",
    "\n",
    "n_labels = len(np.unique(y_train))\n",
    "\n",
    "# Flatten and normalize\n",
    "x_train = x_train.reshape((len(x_train), np.prod(x_train.shape[1:]))) / 255.0\n",
    "x_test = x_test.reshape((len(x_test), np.prod(x_test.shape[1:]))) / 255.0\n",
    "# Encode\n",
    "x_train = data_encoder(x_train)\n",
    "x_test = data_encoder(x_test)\n",
    "y_train = to_one_hot(y_train)\n",
    "y_test = to_one_hot(y_test)\n",
    "\n",
    "print(n_labels)\n",
    "print(x_train.shape, y_train.shape)\n",
    "print(x_test.shape, y_test.shape)"
   ]
  },
  {
   "cell_type": "markdown",
   "metadata": {},
   "source": [
    "# Define MPS classifier"
   ]
  },
  {
   "cell_type": "markdown",
   "metadata": {},
   "source": [
    "Note that our MPS has one more site than the data because of the label tensor. We also have to set the bond dimension which is a hyperparameter and remains constant during training. In a more sophisticated implementation the bond dimension can be adaptively changed according to the complexity of training data by performing some SVD steps. This is currently not implemented but can be added in a future version."
   ]
  },
  {
   "cell_type": "code",
   "execution_count": 4,
   "metadata": {},
   "outputs": [],
   "source": [
    "mps10 = classifier.MatrixProductState(n_sites=x_train.shape[1] + 1,\n",
    "                                    n_labels=n_labels,\n",
    "                                    d_phys=x_train.shape[2],\n",
    "                                    d_bond=10)\n",
    "mps20 = classifier.MatrixProductState(n_sites=x_train.shape[1] + 1,\n",
    "                                    n_labels=n_labels,\n",
    "                                    d_phys=x_train.shape[2],\n",
    "                                    d_bond=20)\n",
    "mps50 = classifier.MatrixProductState(n_sites=x_train.shape[1] + 1,\n",
    "                                    n_labels=n_labels,\n",
    "                                    d_phys=x_train.shape[2],\n",
    "                                    d_bond=50)"
   ]
  },
  {
   "cell_type": "markdown",
   "metadata": {},
   "source": [
    "# Example training"
   ]
  },
  {
   "cell_type": "markdown",
   "metadata": {},
   "source": [
    "We can train the `mps` object we created using the `training.fit` data. Here we perform a quick training in a small portion of the data without validation."
   ]
  },
  {
   "cell_type": "code",
   "execution_count": 5,
   "metadata": {},
   "outputs": [
    {
     "name": "stdout",
     "output_type": "stream",
     "text": [
      "\n",
      "Epoch: 0\n",
      "Time: 3.3835930824279785\n",
      "Loss: 2.2813007831573486\n",
      "Accuracy: 0.116\n",
      "\n",
      "Epoch: 1\n",
      "Time: 6.667639255523682\n",
      "Loss: 1.6160660982131958\n",
      "Accuracy: 0.43\n",
      "\n",
      "Epoch: 2\n",
      "Time: 9.945064067840576\n",
      "Loss: 0.9859989285469055\n",
      "Accuracy: 0.688\n",
      "\n",
      "Epoch: 3\n",
      "Time: 13.228430986404419\n",
      "Loss: 0.713521420955658\n",
      "Accuracy: 0.776\n",
      "\n",
      "Epoch: 4\n",
      "Time: 16.50135612487793\n",
      "Loss: 0.5561362504959106\n",
      "Accuracy: 0.831\n",
      "\n",
      "Epoch: 5\n",
      "Time: 19.809200763702393\n",
      "Loss: 0.4400608539581299\n",
      "Accuracy: 0.875\n",
      "\n",
      "Epoch: 6\n",
      "Time: 23.124213218688965\n",
      "Loss: 0.3686707615852356\n",
      "Accuracy: 0.893\n",
      "\n",
      "Epoch: 7\n",
      "Time: 26.38359570503235\n",
      "Loss: 0.33924129605293274\n",
      "Accuracy: 0.902\n",
      "\n",
      "Epoch: 8\n",
      "Time: 29.826070547103882\n",
      "Loss: 0.32387495040893555\n",
      "Accuracy: 0.916\n",
      "\n",
      "Epoch: 9\n",
      "Time: 33.286932945251465\n",
      "Loss: 0.28660666942596436\n",
      "Accuracy: 0.919\n"
     ]
    }
   ],
   "source": [
    "optimizer = tf.train.AdamOptimizer(learning_rate=1e-4)\n",
    "\n",
    "mps10, history = training.fit(mps10, optimizer, x_train[:1000], y_train[:1000],\n",
    "                            n_epochs=10, batch_size=50, n_message=1)"
   ]
  },
  {
   "cell_type": "code",
   "execution_count": 6,
   "metadata": {},
   "outputs": [
    {
     "name": "stdout",
     "output_type": "stream",
     "text": [
      "\n",
      "Epoch: 0\n",
      "Time: 11.214986085891724\n",
      "Loss: 2.214038848876953\n",
      "Accuracy: 0.17\n",
      "\n",
      "Epoch: 1\n",
      "Time: 21.786638498306274\n",
      "Loss: 1.496695876121521\n",
      "Accuracy: 0.514\n",
      "\n",
      "Epoch: 2\n",
      "Time: 32.35658359527588\n",
      "Loss: 0.7375344038009644\n",
      "Accuracy: 0.763\n",
      "\n",
      "Epoch: 3\n",
      "Time: 43.8205349445343\n",
      "Loss: 0.45229098200798035\n",
      "Accuracy: 0.861\n",
      "\n",
      "Epoch: 4\n",
      "Time: 54.757938385009766\n",
      "Loss: 0.3072621524333954\n",
      "Accuracy: 0.911\n",
      "\n",
      "Epoch: 5\n",
      "Time: 67.86824154853821\n",
      "Loss: 0.21335671842098236\n",
      "Accuracy: 0.929\n",
      "\n",
      "Epoch: 6\n",
      "Time: 82.98875880241394\n",
      "Loss: 0.2144099622964859\n",
      "Accuracy: 0.936\n",
      "\n",
      "Epoch: 7\n",
      "Time: 95.29872441291809\n",
      "Loss: 0.2014651894569397\n",
      "Accuracy: 0.928\n",
      "\n",
      "Epoch: 8\n",
      "Time: 107.4794774055481\n",
      "Loss: 0.1720908135175705\n",
      "Accuracy: 0.942\n",
      "\n",
      "Epoch: 9\n",
      "Time: 118.89829683303833\n",
      "Loss: 0.1568392664194107\n",
      "Accuracy: 0.947\n"
     ]
    }
   ],
   "source": [
    "mps20, history20 = training.fit(mps20, optimizer, x_train[:1000], y_train[:1000],\n",
    "                            n_epochs=10, batch_size=50, n_message=1)"
   ]
  },
  {
   "cell_type": "code",
   "execution_count": 7,
   "metadata": {},
   "outputs": [
    {
     "name": "stdout",
     "output_type": "stream",
     "text": [
      "\n",
      "Epoch: 0\n",
      "Time: 67.68969917297363\n",
      "Loss: 3.0257692337036133\n",
      "Accuracy: 0.125\n",
      "\n",
      "Epoch: 1\n",
      "Time: 135.802659034729\n",
      "Loss: 2.271416425704956\n",
      "Accuracy: 0.104\n",
      "\n",
      "Epoch: 2\n",
      "Time: 204.3313910961151\n",
      "Loss: 1.729012131690979\n",
      "Accuracy: 0.416\n",
      "\n",
      "Epoch: 3\n",
      "Time: 270.0918095111847\n",
      "Loss: 0.8957529067993164\n",
      "Accuracy: 0.727\n",
      "\n",
      "Epoch: 4\n",
      "Time: 337.22472286224365\n",
      "Loss: 0.5402019023895264\n",
      "Accuracy: 0.837\n",
      "\n",
      "Epoch: 5\n",
      "Time: 402.27513909339905\n",
      "Loss: 0.3833809196949005\n",
      "Accuracy: 0.894\n",
      "\n",
      "Epoch: 6\n",
      "Time: 469.36961340904236\n",
      "Loss: 0.27588188648223877\n",
      "Accuracy: 0.905\n",
      "\n",
      "Epoch: 7\n",
      "Time: 537.8736934661865\n",
      "Loss: 0.25605666637420654\n",
      "Accuracy: 0.914\n",
      "\n",
      "Epoch: 8\n",
      "Time: 603.8041079044342\n",
      "Loss: 0.21179479360580444\n",
      "Accuracy: 0.93\n",
      "\n",
      "Epoch: 9\n",
      "Time: 669.2888622283936\n",
      "Loss: 0.16677524149417877\n",
      "Accuracy: 0.938\n"
     ]
    }
   ],
   "source": [
    "mps50, history50 = training.fit(mps50, optimizer, x_train[:1000], y_train[:1000],\n",
    "                            n_epochs=10, batch_size=50, n_message=1)"
   ]
  },
  {
   "cell_type": "code",
   "execution_count": 12,
   "metadata": {},
   "outputs": [],
   "source": [
    "from matplotlib import pyplot as plt\n",
    "%matplotlib inline\n",
    "import numpy\n",
    "import matplotlib.font_manager as font_manager\n",
    "\n",
    "# Set the font dictionaries (for plot title and axis titles)\n",
    "title_font = {'fontname':'Arial', 'size':'16', 'color':'black', 'weight':'normal',\n",
    "              'verticalalignment':'bottom'} # Bottom vertical alignment for more space\n",
    "axis_font = {'fontname':'Arial', 'size':'14'}"
   ]
  },
  {
   "cell_type": "code",
   "execution_count": 49,
   "metadata": {},
   "outputs": [
    {
     "data": {
      "image/png": "[encoded data removed]",
      "text/plain": [
       "<Figure size 432x288 with 1 Axes>"
      ]
     },
     "metadata": {
      "needs_background": "light"
     },
     "output_type": "display_data"
    },
    {
     "data": {
      "image/png": "[encoded data removed]",
      "text/plain": [
       "<Figure size 432x288 with 1 Axes>"
      ]
     },
     "metadata": {
      "needs_background": "light"
     },
     "output_type": "display_data"
    }
   ],
   "source": [
    "#========================================= Accuracy ==========================================================#\n",
    "#=============================================================================================================#\n",
    "# summarize history for accuracy\n",
    "plt.plot(history['acc'],marker='o')\n",
    "plt.plot(history20['acc'],marker='o')\n",
    "plt.plot(history50['acc'],marker='o')\n",
    "plt.title('Model Accuracy',title_font)\n",
    "plt.ylabel('Accuracy',**axis_font)\n",
    "plt.xlabel('Epoch',**axis_font)\n",
    "plt.tick_params(axis=\"x\", labelsize=10)\n",
    "plt.tick_params(axis=\"y\", labelsize=10)\n",
    "plt.legend(['bond=10', 'bond=20','bond=50'], loc='best')\n",
    "plt.grid(b=True, which='major', color='#999999', linestyle='-')\n",
    "plt.minorticks_on()\n",
    "plt.grid(b=True, which='minor', color='#999999', linestyle='-', alpha=0.2)\n",
    "plt.show()\n",
    "\n",
    "#============================================= Loss ==========================================================#\n",
    "#=============================================================================================================#\n",
    "# summarize history for loss\n",
    "plt.plot(history['loss'],marker='o')\n",
    "plt.plot(history20['loss'],marker='o')\n",
    "plt.plot(history50['loss'],marker='o')\n",
    "plt.plot(history['val_loss'])\n",
    "plt.title('Model Loss',**title_font)\n",
    "plt.ylabel('Loss',**axis_font)\n",
    "plt.xlabel('Epoch',**axis_font)\n",
    "plt.tick_params(axis=\"x\", labelsize=10)\n",
    "plt.tick_params(axis=\"y\", labelsize=10)\n",
    "plt.legend(['bond=10', 'bond=20','bond=50'], loc='best')\n",
    "plt.grid(b=True, which='major', color='#999999', linestyle='-')\n",
    "plt.minorticks_on()\n",
    "plt.grid(b=True, which='minor', color='#999999', linestyle='-', alpha=0.2)\n",
    "plt.show()"
   ]
  },
  {
   "cell_type": "code",
   "execution_count": null,
   "metadata": {},
   "outputs": [],
   "source": []
  }
 ],
 "metadata": {
  "kernelspec": {
   "display_name": "Python 3",
   "language": "python",
   "name": "python3"
  },
  "language_info": {
   "codemirror_mode": {
    "name": "ipython",
    "version": 3
   },
   "file_extension": ".py",
   "mimetype": "text/x-python",
   "name": "python",
   "nbconvert_exporter": "python",
   "pygments_lexer": "ipython3",
   "version": "3.7.3"
  }
 },
 "nbformat": 4,
 "nbformat_minor": 2
}
